{
  "nbformat": 4,
  "nbformat_minor": 0,
  "metadata": {
    "colab": {
      "provenance": []
    },
    "kernelspec": {
      "name": "python3",
      "display_name": "Python 3"
    },
    "language_info": {
      "name": "python"
    }
  },
  "cells": [
    {
      "cell_type": "markdown",
      "metadata": {
        "id": "view-in-github"
      },
      "source": [
        "<a href=\"https://colab.research.google.com/github/udlbook/udlbook/blob/main/Notebooks/Chap10/10_2_Convolution_for_MNIST_1D.ipynb\" target=\"_parent\"><img src=\"https://colab.research.google.com/assets/colab-badge.svg\" alt=\"Open In Colab\"/></a>"
      ]
    },
    {
      "cell_type": "markdown",
      "source": [
        "# **Notebook 10.2: Convolution for MNIST-1D**\n",
        "\n",
        "This notebook investigates a 1D convolutional network for MNIST-1D as in figure 10.7 and 10.8a.\n",
        "\n",
        "Work through the cells below, running each cell in turn. In various places you will see the words \"TO DO\". Follow the instructions at these places and make predictions about what is going to happen or write code to complete the functions.\n",
        "\n",
        "Contact me at udlbookmail@gmail.com if you find any mistakes or have any suggestions.\n",
        "\n"
      ],
      "metadata": {
        "id": "t9vk9Elugvmi"
      }
    },
    {
      "cell_type": "code",
      "source": [
        "# Run this if you're in a Colab to install MNIST 1D repository\n",
        "!pip install git+https://github.com/greydanus/mnist1d"
      ],
      "metadata": {
        "id": "D5yLObtZCi9J",
        "colab": {
          "base_uri": "https://localhost:8080/"
        },
        "outputId": "b28d757e-80f7-494f-e5f7-5365d2b733bb"
      },
      "execution_count": null,
      "outputs": [
        {
          "output_type": "stream",
          "name": "stdout",
          "text": [
            "Collecting git+https://github.com/greydanus/mnist1d\n",
            "  Cloning https://github.com/greydanus/mnist1d to /tmp/pip-req-build-3mo43cwy\n",
            "  Running command git clone --filter=blob:none --quiet https://github.com/greydanus/mnist1d /tmp/pip-req-build-3mo43cwy\n",
            "  Resolved https://github.com/greydanus/mnist1d to commit 7878d96082abd200c546a07a4101fa90b30fdf7e\n",
            "  Installing build dependencies ... \u001b[?25l\u001b[?25hdone\n",
            "  Getting requirements to build wheel ... \u001b[?25l\u001b[?25hdone\n",
            "  Preparing metadata (pyproject.toml) ... \u001b[?25l\u001b[?25hdone\n",
            "Requirement already satisfied: requests in /usr/local/lib/python3.10/dist-packages (from mnist1d==0.0.2.post16) (2.32.3)\n",
            "Requirement already satisfied: numpy in /usr/local/lib/python3.10/dist-packages (from mnist1d==0.0.2.post16) (1.26.4)\n",
            "Requirement already satisfied: matplotlib in /usr/local/lib/python3.10/dist-packages (from mnist1d==0.0.2.post16) (3.7.1)\n",
            "Requirement already satisfied: scipy in /usr/local/lib/python3.10/dist-packages (from mnist1d==0.0.2.post16) (1.13.1)\n",
            "Requirement already satisfied: contourpy>=1.0.1 in /usr/local/lib/python3.10/dist-packages (from matplotlib->mnist1d==0.0.2.post16) (1.3.0)\n",
            "Requirement already satisfied: cycler>=0.10 in /usr/local/lib/python3.10/dist-packages (from matplotlib->mnist1d==0.0.2.post16) (0.12.1)\n",
            "Requirement already satisfied: fonttools>=4.22.0 in /usr/local/lib/python3.10/dist-packages (from matplotlib->mnist1d==0.0.2.post16) (4.54.1)\n",
            "Requirement already satisfied: kiwisolver>=1.0.1 in /usr/local/lib/python3.10/dist-packages (from matplotlib->mnist1d==0.0.2.post16) (1.4.7)\n",
            "Requirement already satisfied: packaging>=20.0 in /usr/local/lib/python3.10/dist-packages (from matplotlib->mnist1d==0.0.2.post16) (24.1)\n",
            "Requirement already satisfied: pillow>=6.2.0 in /usr/local/lib/python3.10/dist-packages (from matplotlib->mnist1d==0.0.2.post16) (10.4.0)\n",
            "Requirement already satisfied: pyparsing>=2.3.1 in /usr/local/lib/python3.10/dist-packages (from matplotlib->mnist1d==0.0.2.post16) (3.2.0)\n",
            "Requirement already satisfied: python-dateutil>=2.7 in /usr/local/lib/python3.10/dist-packages (from matplotlib->mnist1d==0.0.2.post16) (2.8.2)\n",
            "Requirement already satisfied: charset-normalizer<4,>=2 in /usr/local/lib/python3.10/dist-packages (from requests->mnist1d==0.0.2.post16) (3.4.0)\n",
            "Requirement already satisfied: idna<4,>=2.5 in /usr/local/lib/python3.10/dist-packages (from requests->mnist1d==0.0.2.post16) (3.10)\n",
            "Requirement already satisfied: urllib3<3,>=1.21.1 in /usr/local/lib/python3.10/dist-packages (from requests->mnist1d==0.0.2.post16) (2.2.3)\n",
            "Requirement already satisfied: certifi>=2017.4.17 in /usr/local/lib/python3.10/dist-packages (from requests->mnist1d==0.0.2.post16) (2024.8.30)\n",
            "Requirement already satisfied: six>=1.5 in /usr/local/lib/python3.10/dist-packages (from python-dateutil>=2.7->matplotlib->mnist1d==0.0.2.post16) (1.16.0)\n",
            "Building wheels for collected packages: mnist1d\n",
            "  Building wheel for mnist1d (pyproject.toml) ... \u001b[?25l\u001b[?25hdone\n",
            "  Created wheel for mnist1d: filename=mnist1d-0.0.2.post16-py3-none-any.whl size=14624 sha256=3278a5867ee98e1217cdf259a81e0abf626c0acd3eac17574c53d4ed3e33cdee\n",
            "  Stored in directory: /tmp/pip-ephem-wheel-cache-axk5dub2/wheels/41/95/55/45fcf7d38cfa97e35682da6c5017d4513729131326ce935371\n",
            "Successfully built mnist1d\n",
            "Installing collected packages: mnist1d\n",
            "Successfully installed mnist1d-0.0.2.post16\n"
          ]
        }
      ]
    },
    {
      "cell_type": "code",
      "source": [
        "import numpy as np\n",
        "import os\n",
        "import torch, torch.nn as nn\n",
        "from torch.utils.data import TensorDataset, DataLoader\n",
        "from torch.optim.lr_scheduler import StepLR\n",
        "import matplotlib.pyplot as plt\n",
        "import mnist1d\n",
        "import random"
      ],
      "metadata": {
        "id": "YrXWAH7sUWvU"
      },
      "execution_count": null,
      "outputs": []
    },
    {
      "cell_type": "code",
      "source": [
        "args = mnist1d.data.get_dataset_args()\n",
        "data = mnist1d.data.get_dataset(args, path='./mnist1d_data.pkl', download=False, regenerate=False)\n",
        "\n",
        "# The training and test input and outputs are in\n",
        "# data['x'], data['y'], data['x_test'], and data['y_test']\n",
        "print(\"Examples in training set: {}\".format(len(data['y'])))\n",
        "print(\"Examples in test set: {}\".format(len(data['y_test'])))\n",
        "print(\"Length of each example: {}\".format(data['x'].shape[-1]))"
      ],
      "metadata": {
        "id": "twI72ZCrCt5z",
        "colab": {
          "base_uri": "https://localhost:8080/"
        },
        "outputId": "fe699bbf-0ebe-46a3-bd6e-ab9197bcbfad"
      },
      "execution_count": null,
      "outputs": [
        {
          "output_type": "stream",
          "name": "stdout",
          "text": [
            "Did or could not load data from ./mnist1d_data.pkl. Rebuilding dataset...\n",
            "Examples in training set: 4000\n",
            "Examples in test set: 1000\n",
            "Length of each example: 40\n"
          ]
        }
      ]
    },
    {
      "cell_type": "code",
      "source": [
        "# Load in the data\n",
        "train_data_x = data['x'].transpose()\n",
        "train_data_y = data['y']\n",
        "val_data_x = data['x_test'].transpose()\n",
        "val_data_y = data['y_test']\n",
        "# Print out sizes\n",
        "print(\"Train data: %d examples (columns), each of which has %d dimensions (rows)\"%((train_data_x.shape[1],train_data_x.shape[0])))\n",
        "print(\"Validation data: %d examples (columns), each of which has %d dimensions (rows)\"%((val_data_x.shape[1],val_data_x.shape[0])))"
      ],
      "metadata": {
        "id": "8bKADvLHbiV5",
        "colab": {
          "base_uri": "https://localhost:8080/"
        },
        "outputId": "1a452cf1-1c3d-4bea-ab2e-bff9b8790e51"
      },
      "execution_count": null,
      "outputs": [
        {
          "output_type": "stream",
          "name": "stdout",
          "text": [
            "Train data: 4000 examples (columns), each of which has 40 dimensions (rows)\n",
            "Validation data: 1000 examples (columns), each of which has 40 dimensions (rows)\n"
          ]
        }
      ]
    },
    {
      "cell_type": "markdown",
      "source": [
        "Define the network"
      ],
      "metadata": {
        "id": "_sFvRDGrl4qe"
      }
    },
    {
      "cell_type": "code",
      "source": [
        "# There are 40 input dimensions and 10 output dimensions for this data\n",
        "# The inputs correspond to the 40 offsets in the MNIST1D template.\n",
        "D_i = 40\n",
        "# The outputs correspond to the 10 digits\n",
        "D_o = 10\n",
        "\n",
        "\n",
        "# TODO Create a model with the following layers\n",
        "# 1. Convolutional layer, (input=length 40 and 1 channel, kernel size 3, stride 2, padding=\"valid\", 15 output channels )\n",
        "# 2. ReLU\n",
        "# 3. Convolutional layer, (input=length 19 and 15 channels, kernel size 3, stride 2, padding=\"valid\", 15 output channels )\n",
        "# 4. ReLU\n",
        "# 5. Convolutional layer, (input=length 9 and 15 channels, kernel size 3, stride 2, padding=\"valid\", 15 output channels)\n",
        "# 6. ReLU\n",
        "# 7. Flatten (converts 4x15) to length 60\n",
        "# 8. Linear layer (input size = 60, output size = 10)\n",
        "# References:\n",
        "# https://pytorch.org/docs/1.13/generated/torch.nn.Conv1d.html?highlight=conv1d#torch.nn.Conv1d\n",
        "# https://pytorch.org/docs/stable/generated/torch.nn.Flatten.html\n",
        "# https://pytorch.org/docs/1.13/generated/torch.nn.Linear.html?highlight=linear#torch.nn.Linear\n",
        "\n",
        "# NOTE THAT THE CONVOLUTIONAL LAYERS NEED TO TAKE THE NUMBER OF INPUT CHANNELS AS A PARAMETER\n",
        "# AND NOT THE INPUT SIZE.\n",
        "\n",
        "# Replace the following function:\n",
        "model = nn.Sequential(\n",
        "    nn.Conv1d(in_channels=1, out_channels=15, kernel_size=3, stride=2, padding=\"valid\"),\n",
        "    nn.ReLU(),\n",
        "    nn.Conv1d(in_channels=15, out_channels=15, kernel_size=3, stride=2, padding=\"valid\"),\n",
        "    nn.ReLU(),\n",
        "    nn.Conv1d(in_channels=15, out_channels=15, kernel_size=3, stride=2, padding=\"valid\"),\n",
        "    nn.ReLU(),\n",
        "    nn.Flatten(),\n",
        "    nn.Linear(60,10))\n",
        "\n",
        "\n",
        "\n"
      ],
      "metadata": {
        "id": "FslroPJJffrh"
      },
      "execution_count": null,
      "outputs": []
    },
    {
      "cell_type": "code",
      "source": [
        "# He initialization of weights\n",
        "def weights_init(layer_in):\n",
        "  if isinstance(layer_in, nn.Linear):\n",
        "    nn.init.kaiming_uniform_(layer_in.weight)\n",
        "    layer_in.bias.data.fill_(0.0)"
      ],
      "metadata": {
        "id": "YgLaex1pfhqz"
      },
      "execution_count": null,
      "outputs": []
    },
    {
      "cell_type": "code",
      "source": [
        "# choose cross entropy loss function (equation 5.24 in the loss notes)\n",
        "loss_function = nn.CrossEntropyLoss()\n",
        "# construct SGD optimizer and initialize learning rate and momentum\n",
        "optimizer = torch.optim.SGD(model.parameters(), lr = 0.05, momentum=0.9)\n",
        "# object that decreases learning rate by half every 20 epochs\n",
        "scheduler = StepLR(optimizer, step_size=20, gamma=0.5)\n",
        "# create 100 dummy data points and store in data loader class\n",
        "x_train = torch.tensor(train_data_x.transpose().astype('float32'))\n",
        "y_train = torch.tensor(train_data_y.astype('long')).long()\n",
        "x_val= torch.tensor(val_data_x.transpose().astype('float32'))\n",
        "y_val = torch.tensor(val_data_y.astype('long')).long()\n",
        "\n",
        "# load the data into a class that creates the batches\n",
        "data_loader = DataLoader(TensorDataset(x_train,y_train), batch_size=100, shuffle=True, worker_init_fn=np.random.seed(1))\n",
        "\n",
        "# Initialize model weights\n",
        "model.apply(weights_init)\n",
        "\n",
        "# loop over the dataset n_epoch times\n",
        "n_epoch = 100\n",
        "# store the loss and the % correct at each epoch\n",
        "losses_train = np.zeros((n_epoch))\n",
        "errors_train = np.zeros((n_epoch))\n",
        "losses_val = np.zeros((n_epoch))\n",
        "errors_val = np.zeros((n_epoch))\n",
        "\n",
        "for epoch in range(n_epoch):\n",
        "  # loop over batches\n",
        "  for i, data in enumerate(data_loader):\n",
        "    # retrieve inputs and labels for this batch\n",
        "    x_batch, y_batch = data\n",
        "    # zero the parameter gradients\n",
        "    optimizer.zero_grad()\n",
        "    # forward pass -- calculate model output\n",
        "    pred = model(x_batch[:,None,:])\n",
        "    # compute the loss\n",
        "    loss = loss_function(pred, y_batch)\n",
        "    # backward pass\n",
        "    loss.backward()\n",
        "    # SGD update\n",
        "    optimizer.step()\n",
        "\n",
        "  # Run whole dataset to get statistics -- normally wouldn't do this\n",
        "  pred_train = model(x_train[:,None,:])\n",
        "  pred_val = model(x_val[:,None,:])\n",
        "  _, predicted_train_class = torch.max(pred_train.data, 1)\n",
        "  _, predicted_val_class = torch.max(pred_val.data, 1)\n",
        "  errors_train[epoch] = 100 - 100 * (predicted_train_class == y_train).float().sum() / len(y_train)\n",
        "  errors_val[epoch]= 100 - 100 * (predicted_val_class == y_val).float().sum() / len(y_val)\n",
        "  losses_train[epoch] = loss_function(pred_train, y_train).item()\n",
        "  losses_val[epoch]= loss_function(pred_val, y_val).item()\n",
        "  print(f'Epoch {epoch:5d}, train loss {losses_train[epoch]:.6f}, train error {errors_train[epoch]:3.2f},  val loss {losses_val[epoch]:.6f}, percent error {errors_val[epoch]:3.2f}')\n",
        "\n",
        "  # tell scheduler to consider updating learning rate\n",
        "  scheduler.step()\n",
        "\n",
        "# Plot the results\n",
        "fig, ax = plt.subplots()\n",
        "ax.plot(errors_train,'r-',label='train')\n",
        "ax.plot(errors_val,'b-',label='validation')\n",
        "ax.set_ylim(0,100); ax.set_xlim(0,n_epoch)\n",
        "ax.set_xlabel('Epoch'); ax.set_ylabel('Error')\n",
        "ax.set_title('Part I: Validation Result %3.2f'%(errors_val[-1]))\n",
        "ax.legend()\n",
        "plt.show()"
      ],
      "metadata": {
        "id": "NYw8I_3mmX5c",
        "colab": {
          "base_uri": "https://localhost:8080/",
          "height": 1000
        },
        "outputId": "fae01cf3-a02d-4ec8-e2e3-4ec212079fa6"
      },
      "execution_count": null,
      "outputs": [
        {
          "output_type": "stream",
          "name": "stdout",
          "text": [
            "Epoch     0, train loss 1.984239, train error 76.47,  val loss 2.015552, percent error 76.10\n",
            "Epoch     1, train loss 1.501786, train error 60.08,  val loss 1.517712, percent error 61.70\n",
            "Epoch     2, train loss 1.365916, train error 56.42,  val loss 1.372340, percent error 57.40\n",
            "Epoch     3, train loss 1.273427, train error 50.10,  val loss 1.299403, percent error 53.70\n",
            "Epoch     4, train loss 1.171477, train error 48.65,  val loss 1.189764, percent error 48.90\n",
            "Epoch     5, train loss 1.090244, train error 44.55,  val loss 1.121384, percent error 46.40\n",
            "Epoch     6, train loss 1.045344, train error 41.97,  val loss 1.078394, percent error 44.10\n",
            "Epoch     7, train loss 0.908579, train error 36.25,  val loss 0.970359, percent error 39.70\n",
            "Epoch     8, train loss 0.857389, train error 35.05,  val loss 0.911177, percent error 38.20\n",
            "Epoch     9, train loss 0.779119, train error 31.28,  val loss 0.850792, percent error 33.90\n",
            "Epoch    10, train loss 0.845844, train error 33.35,  val loss 0.928142, percent error 35.70\n",
            "Epoch    11, train loss 0.649308, train error 25.25,  val loss 0.739308, percent error 29.20\n",
            "Epoch    12, train loss 0.657650, train error 25.70,  val loss 0.781263, percent error 31.90\n",
            "Epoch    13, train loss 0.577965, train error 22.05,  val loss 0.686856, percent error 27.90\n",
            "Epoch    14, train loss 0.482391, train error 17.53,  val loss 0.596481, percent error 22.80\n",
            "Epoch    15, train loss 0.548841, train error 20.70,  val loss 0.642946, percent error 24.80\n",
            "Epoch    16, train loss 0.454173, train error 16.22,  val loss 0.609431, percent error 22.90\n",
            "Epoch    17, train loss 0.409686, train error 15.30,  val loss 0.541909, percent error 20.50\n",
            "Epoch    18, train loss 0.455656, train error 16.88,  val loss 0.570550, percent error 21.60\n",
            "Epoch    19, train loss 0.325500, train error 11.20,  val loss 0.455709, percent error 15.80\n",
            "Epoch    20, train loss 0.257655, train error 8.50,  val loss 0.412526, percent error 14.50\n",
            "Epoch    21, train loss 0.285990, train error 10.32,  val loss 0.454364, percent error 15.60\n",
            "Epoch    22, train loss 0.229283, train error 7.55,  val loss 0.396434, percent error 13.40\n",
            "Epoch    23, train loss 0.230644, train error 8.28,  val loss 0.411866, percent error 14.50\n",
            "Epoch    24, train loss 0.214559, train error 7.50,  val loss 0.388081, percent error 13.10\n",
            "Epoch    25, train loss 0.234977, train error 8.32,  val loss 0.400385, percent error 14.20\n",
            "Epoch    26, train loss 0.176299, train error 5.70,  val loss 0.365063, percent error 12.00\n",
            "Epoch    27, train loss 0.201290, train error 7.25,  val loss 0.415383, percent error 13.90\n",
            "Epoch    28, train loss 0.173690, train error 5.68,  val loss 0.372286, percent error 12.10\n",
            "Epoch    29, train loss 0.168175, train error 5.55,  val loss 0.388282, percent error 12.10\n",
            "Epoch    30, train loss 0.141036, train error 4.65,  val loss 0.354836, percent error 11.10\n",
            "Epoch    31, train loss 0.148695, train error 5.10,  val loss 0.383245, percent error 12.50\n",
            "Epoch    32, train loss 0.139053, train error 4.80,  val loss 0.355751, percent error 11.20\n",
            "Epoch    33, train loss 0.165322, train error 5.93,  val loss 0.385652, percent error 13.00\n",
            "Epoch    34, train loss 0.154603, train error 5.28,  val loss 0.372227, percent error 10.90\n",
            "Epoch    35, train loss 0.129255, train error 4.57,  val loss 0.391027, percent error 11.30\n",
            "Epoch    36, train loss 0.158704, train error 5.95,  val loss 0.412131, percent error 12.60\n",
            "Epoch    37, train loss 0.123855, train error 4.18,  val loss 0.376491, percent error 11.60\n",
            "Epoch    38, train loss 0.106980, train error 3.60,  val loss 0.360026, percent error 11.20\n",
            "Epoch    39, train loss 0.118616, train error 4.05,  val loss 0.370942, percent error 11.80\n",
            "Epoch    40, train loss 0.088803, train error 2.78,  val loss 0.345461, percent error 9.40\n",
            "Epoch    41, train loss 0.096022, train error 3.00,  val loss 0.369892, percent error 10.90\n",
            "Epoch    42, train loss 0.083687, train error 2.35,  val loss 0.353507, percent error 10.30\n",
            "Epoch    43, train loss 0.076269, train error 2.00,  val loss 0.343538, percent error 10.60\n",
            "Epoch    44, train loss 0.073377, train error 2.20,  val loss 0.346966, percent error 10.10\n",
            "Epoch    45, train loss 0.068674, train error 1.65,  val loss 0.348330, percent error 9.70\n",
            "Epoch    46, train loss 0.067148, train error 1.82,  val loss 0.343163, percent error 10.20\n",
            "Epoch    47, train loss 0.069594, train error 1.80,  val loss 0.345573, percent error 10.20\n",
            "Epoch    48, train loss 0.063877, train error 1.55,  val loss 0.351781, percent error 9.30\n",
            "Epoch    49, train loss 0.074806, train error 2.20,  val loss 0.364420, percent error 9.60\n",
            "Epoch    50, train loss 0.061047, train error 1.47,  val loss 0.352430, percent error 9.40\n",
            "Epoch    51, train loss 0.064723, train error 1.90,  val loss 0.363126, percent error 10.50\n",
            "Epoch    52, train loss 0.062041, train error 1.78,  val loss 0.378369, percent error 10.00\n",
            "Epoch    53, train loss 0.059017, train error 1.53,  val loss 0.361094, percent error 9.70\n",
            "Epoch    54, train loss 0.059404, train error 1.55,  val loss 0.370057, percent error 10.50\n",
            "Epoch    55, train loss 0.055460, train error 1.32,  val loss 0.351597, percent error 9.30\n",
            "Epoch    56, train loss 0.057800, train error 1.47,  val loss 0.386846, percent error 9.70\n",
            "Epoch    57, train loss 0.052204, train error 1.12,  val loss 0.366423, percent error 9.40\n",
            "Epoch    58, train loss 0.048281, train error 0.95,  val loss 0.372804, percent error 9.30\n",
            "Epoch    59, train loss 0.058277, train error 1.55,  val loss 0.399770, percent error 10.50\n",
            "Epoch    60, train loss 0.045759, train error 0.78,  val loss 0.375109, percent error 8.90\n",
            "Epoch    61, train loss 0.044994, train error 0.88,  val loss 0.372053, percent error 9.20\n",
            "Epoch    62, train loss 0.043313, train error 0.80,  val loss 0.377038, percent error 9.10\n",
            "Epoch    63, train loss 0.042664, train error 0.68,  val loss 0.373819, percent error 9.10\n",
            "Epoch    64, train loss 0.042270, train error 0.75,  val loss 0.376780, percent error 9.40\n",
            "Epoch    65, train loss 0.043038, train error 0.88,  val loss 0.383502, percent error 9.00\n",
            "Epoch    66, train loss 0.042041, train error 0.72,  val loss 0.386543, percent error 9.10\n",
            "Epoch    67, train loss 0.042945, train error 0.75,  val loss 0.386078, percent error 9.20\n",
            "Epoch    68, train loss 0.039509, train error 0.57,  val loss 0.383744, percent error 9.00\n",
            "Epoch    69, train loss 0.039273, train error 0.62,  val loss 0.381681, percent error 9.20\n",
            "Epoch    70, train loss 0.039561, train error 0.68,  val loss 0.394942, percent error 9.40\n",
            "Epoch    71, train loss 0.037969, train error 0.55,  val loss 0.389329, percent error 9.10\n",
            "Epoch    72, train loss 0.037326, train error 0.53,  val loss 0.389112, percent error 9.30\n",
            "Epoch    73, train loss 0.039779, train error 0.78,  val loss 0.397121, percent error 9.30\n",
            "Epoch    74, train loss 0.037981, train error 0.55,  val loss 0.392440, percent error 9.20\n",
            "Epoch    75, train loss 0.037028, train error 0.65,  val loss 0.398905, percent error 9.60\n",
            "Epoch    76, train loss 0.036526, train error 0.50,  val loss 0.399054, percent error 9.10\n",
            "Epoch    77, train loss 0.036224, train error 0.62,  val loss 0.400677, percent error 9.60\n",
            "Epoch    78, train loss 0.035136, train error 0.47,  val loss 0.391735, percent error 9.30\n",
            "Epoch    79, train loss 0.035002, train error 0.45,  val loss 0.399926, percent error 9.30\n",
            "Epoch    80, train loss 0.033694, train error 0.45,  val loss 0.399650, percent error 9.50\n",
            "Epoch    81, train loss 0.033545, train error 0.45,  val loss 0.398691, percent error 9.20\n",
            "Epoch    82, train loss 0.033543, train error 0.50,  val loss 0.405183, percent error 9.60\n",
            "Epoch    83, train loss 0.033120, train error 0.45,  val loss 0.399509, percent error 9.30\n",
            "Epoch    84, train loss 0.033673, train error 0.55,  val loss 0.406732, percent error 9.40\n",
            "Epoch    85, train loss 0.032940, train error 0.45,  val loss 0.404894, percent error 9.20\n",
            "Epoch    86, train loss 0.032783, train error 0.47,  val loss 0.402863, percent error 9.40\n",
            "Epoch    87, train loss 0.032397, train error 0.40,  val loss 0.406923, percent error 9.30\n",
            "Epoch    88, train loss 0.031959, train error 0.45,  val loss 0.406843, percent error 9.50\n",
            "Epoch    89, train loss 0.032211, train error 0.45,  val loss 0.409102, percent error 9.40\n",
            "Epoch    90, train loss 0.031558, train error 0.40,  val loss 0.406496, percent error 9.30\n",
            "Epoch    91, train loss 0.031301, train error 0.43,  val loss 0.408983, percent error 9.40\n",
            "Epoch    92, train loss 0.031383, train error 0.43,  val loss 0.409984, percent error 9.20\n",
            "Epoch    93, train loss 0.030952, train error 0.40,  val loss 0.407804, percent error 9.30\n",
            "Epoch    94, train loss 0.030985, train error 0.35,  val loss 0.407759, percent error 9.30\n",
            "Epoch    95, train loss 0.031276, train error 0.45,  val loss 0.415420, percent error 9.30\n",
            "Epoch    96, train loss 0.030574, train error 0.38,  val loss 0.415112, percent error 9.40\n",
            "Epoch    97, train loss 0.030364, train error 0.43,  val loss 0.415243, percent error 9.50\n",
            "Epoch    98, train loss 0.030084, train error 0.35,  val loss 0.413030, percent error 9.30\n",
            "Epoch    99, train loss 0.030019, train error 0.38,  val loss 0.417129, percent error 9.50\n"
          ]
        },
        {
          "output_type": "display_data",
          "data": {
            "text/plain": [
              "<Figure size 640x480 with 1 Axes>"
            ],
            "image/png": "[encoded data removed]"
          },
          "metadata": {}
        }
      ]
    }
  ]
}