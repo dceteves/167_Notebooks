{
  "nbformat": 4,
  "nbformat_minor": 0,
  "metadata": {
    "colab": {
      "provenance": []
    },
    "kernelspec": {
      "name": "python3",
      "display_name": "Python 3"
    },
    "language_info": {
      "name": "python"
    }
  },
  "cells": [
    {
      "cell_type": "markdown",
      "metadata": {
        "id": "view-in-github"
      },
      "source": [
        "<a href=\"https://colab.research.google.com/github/udlbook/udlbook/blob/main/Notebooks/Chap10/10_5_Convolution_For_MNIST.ipynb\" target=\"_parent\"><img src=\"https://colab.research.google.com/assets/colab-badge.svg\" alt=\"Open In Colab\"/></a>"
      ]
    },
    {
      "cell_type": "markdown",
      "source": [
        "# **Notebook 10.5: Convolution for MNIST**\n",
        "\n",
        "This notebook builds a proper network for 2D convolution.  It works with the MNIST dataset (figure 15.15a), which was the original classic dataset for classifying images.  The network will take a 28x28 grayscale image and classify it into one of 10 classes representing a digit.\n",
        "\n",
        "The code is adapted from https://nextjournal.com/gkoehler/pytorch-mnist\n",
        "\n",
        "Work through the cells below, running each cell in turn. In various places you will see the words \"TO DO\". Follow the instructions at these places and make predictions about what is going to happen or write code to complete the functions.\n",
        "\n",
        "Contact me at udlbookmail@gmail.com if you find any mistakes or have any suggestions.\n"
      ],
      "metadata": {
        "id": "t9vk9Elugvmi"
      }
    },
    {
      "cell_type": "code",
      "source": [
        "import torch\n",
        "import torchvision\n",
        "import torch.nn as nn\n",
        "import torch.nn.functional as F\n",
        "import torch.optim as optim\n",
        "import matplotlib.pyplot as plt\n",
        "import random"
      ],
      "metadata": {
        "id": "YrXWAH7sUWvU"
      },
      "execution_count": 1,
      "outputs": []
    },
    {
      "cell_type": "code",
      "source": [
        "# Run this once to load the train and test data straight into a dataloader class\n",
        "# that will provide the batches\n",
        "\n",
        "# (It may complain that some files are missing because the files seem to have been\n",
        "# reorganized on the underlying website, but it still seems to work). If everything is working\n",
        "# properly, then the whole notebook should run to the end without further problems\n",
        "# even before you make changes.\n",
        "batch_size_train = 64\n",
        "batch_size_test = 1000\n",
        "\n",
        "# TODO Change this directory to point towards an existing directory\n",
        "myDir = '/files/'\n",
        "\n",
        "train_loader = torch.utils.data.DataLoader(\n",
        "  torchvision.datasets.MNIST(myDir, train=True, download=True,\n",
        "                             transform=torchvision.transforms.Compose([\n",
        "                               torchvision.transforms.ToTensor(),\n",
        "                               torchvision.transforms.Normalize(\n",
        "                                 (0.1307,), (0.3081,))\n",
        "                             ])),\n",
        "  batch_size=batch_size_train, shuffle=True)\n",
        "\n",
        "test_loader = torch.utils.data.DataLoader(\n",
        "  torchvision.datasets.MNIST(myDir, train=False, download=True,\n",
        "                             transform=torchvision.transforms.Compose([\n",
        "                               torchvision.transforms.ToTensor(),\n",
        "                               torchvision.transforms.Normalize(\n",
        "                                 (0.1307,), (0.3081,))\n",
        "                             ])),\n",
        "  batch_size=batch_size_test, shuffle=True)"
      ],
      "metadata": {
        "id": "wScBGXXFVadm",
        "colab": {
          "base_uri": "https://localhost:8080/"
        },
        "outputId": "9e89c3e3-2025-47ec-e552-7ac806f44f89"
      },
      "execution_count": 2,
      "outputs": [
        {
          "output_type": "stream",
          "name": "stdout",
          "text": [
            "Downloading http://yann.lecun.com/exdb/mnist/train-images-idx3-ubyte.gz\n",
            "Failed to download (trying next):\n",
            "<urlopen error [SSL: CERTIFICATE_VERIFY_FAILED] certificate verify failed: certificate has expired (_ssl.c:1007)>\n",
            "\n",
            "Downloading https://ossci-datasets.s3.amazonaws.com/mnist/train-images-idx3-ubyte.gz\n",
            "Downloading https://ossci-datasets.s3.amazonaws.com/mnist/train-images-idx3-ubyte.gz to /files/MNIST/raw/train-images-idx3-ubyte.gz\n"
          ]
        },
        {
          "output_type": "stream",
          "name": "stderr",
          "text": [
            "100%|██████████| 9.91M/9.91M [00:00<00:00, 35.6MB/s]\n"
          ]
        },
        {
          "output_type": "stream",
          "name": "stdout",
          "text": [
            "Extracting /files/MNIST/raw/train-images-idx3-ubyte.gz to /files/MNIST/raw\n",
            "\n",
            "Downloading http://yann.lecun.com/exdb/mnist/train-labels-idx1-ubyte.gz\n",
            "Failed to download (trying next):\n",
            "<urlopen error [SSL: CERTIFICATE_VERIFY_FAILED] certificate verify failed: certificate has expired (_ssl.c:1007)>\n",
            "\n",
            "Downloading https://ossci-datasets.s3.amazonaws.com/mnist/train-labels-idx1-ubyte.gz\n",
            "Downloading https://ossci-datasets.s3.amazonaws.com/mnist/train-labels-idx1-ubyte.gz to /files/MNIST/raw/train-labels-idx1-ubyte.gz\n"
          ]
        },
        {
          "output_type": "stream",
          "name": "stderr",
          "text": [
            "100%|██████████| 28.9k/28.9k [00:00<00:00, 1.18MB/s]"
          ]
        },
        {
          "output_type": "stream",
          "name": "stdout",
          "text": [
            "Extracting /files/MNIST/raw/train-labels-idx1-ubyte.gz to /files/MNIST/raw\n",
            "\n",
            "Downloading http://yann.lecun.com/exdb/mnist/t10k-images-idx3-ubyte.gz\n"
          ]
        },
        {
          "output_type": "stream",
          "name": "stderr",
          "text": [
            "\n"
          ]
        },
        {
          "output_type": "stream",
          "name": "stdout",
          "text": [
            "Failed to download (trying next):\n",
            "<urlopen error [SSL: CERTIFICATE_VERIFY_FAILED] certificate verify failed: certificate has expired (_ssl.c:1007)>\n",
            "\n",
            "Downloading https://ossci-datasets.s3.amazonaws.com/mnist/t10k-images-idx3-ubyte.gz\n",
            "Downloading https://ossci-datasets.s3.amazonaws.com/mnist/t10k-images-idx3-ubyte.gz to /files/MNIST/raw/t10k-images-idx3-ubyte.gz\n"
          ]
        },
        {
          "output_type": "stream",
          "name": "stderr",
          "text": [
            "100%|██████████| 1.65M/1.65M [00:00<00:00, 9.74MB/s]\n"
          ]
        },
        {
          "output_type": "stream",
          "name": "stdout",
          "text": [
            "Extracting /files/MNIST/raw/t10k-images-idx3-ubyte.gz to /files/MNIST/raw\n",
            "\n",
            "Downloading http://yann.lecun.com/exdb/mnist/t10k-labels-idx1-ubyte.gz\n",
            "Failed to download (trying next):\n",
            "<urlopen error [SSL: CERTIFICATE_VERIFY_FAILED] certificate verify failed: certificate has expired (_ssl.c:1007)>\n",
            "\n",
            "Downloading https://ossci-datasets.s3.amazonaws.com/mnist/t10k-labels-idx1-ubyte.gz\n",
            "Downloading https://ossci-datasets.s3.amazonaws.com/mnist/t10k-labels-idx1-ubyte.gz to /files/MNIST/raw/t10k-labels-idx1-ubyte.gz\n"
          ]
        },
        {
          "output_type": "stream",
          "name": "stderr",
          "text": [
            "100%|██████████| 4.54k/4.54k [00:00<00:00, 2.38MB/s]"
          ]
        },
        {
          "output_type": "stream",
          "name": "stdout",
          "text": [
            "Extracting /files/MNIST/raw/t10k-labels-idx1-ubyte.gz to /files/MNIST/raw\n",
            "\n"
          ]
        },
        {
          "output_type": "stream",
          "name": "stderr",
          "text": [
            "\n"
          ]
        }
      ]
    },
    {
      "cell_type": "code",
      "source": [
        "# Let's draw some of the training data\n",
        "examples = enumerate(test_loader)\n",
        "batch_idx, (example_data, example_targets) = next(examples)\n",
        "\n",
        "fig = plt.figure()\n",
        "for i in range(6):\n",
        "  plt.subplot(2,3,i+1)\n",
        "  plt.tight_layout()\n",
        "  plt.imshow(example_data[i][0], cmap='gray', interpolation='none')\n",
        "  plt.title(\"Ground Truth: {}\".format(example_targets[i]))\n",
        "  plt.xticks([])\n",
        "  plt.yticks([])\n",
        "plt.show()"
      ],
      "metadata": {
        "id": "8bKADvLHbiV5",
        "colab": {
          "base_uri": "https://localhost:8080/",
          "height": 458
        },
        "outputId": "c457b17d-eec1-4619-a21f-f53367a5af0b"
      },
      "execution_count": 3,
      "outputs": [
        {
          "output_type": "display_data",
          "data": {
            "text/plain": [
              "<Figure size 640x480 with 6 Axes>"
            ],
            "image/png": "[encoded data removed]"
          },
          "metadata": {}
        }
      ]
    },
    {
      "cell_type": "markdown",
      "source": [
        "Define the network.  This is a more typical way to define a network than the sequential structure.  We define a class for the network, and define the parameters in the constructor.  Then we use a function called forward to actually run the network.  It's easy to see how you might use residual connections in this format."
      ],
      "metadata": {
        "id": "_sFvRDGrl4qe"
      }
    },
    {
      "cell_type": "code",
      "source": [
        "from os import X_OK\n",
        "# TODO Change this class to implement\n",
        "# 1. A valid convolution with kernel size 5, 1 input channel and 10 output channels\n",
        "# 2. A max pooling operation over a 2x2 area\n",
        "# 3. A Relu\n",
        "# 4. A valid convolution with kernel size 5, 10 input channels and 20 output channels\n",
        "# 5. A 2D Dropout layer\n",
        "# 6. A max pooling operation over a 2x2 area\n",
        "# 7. A relu\n",
        "# 8. A flattening operation\n",
        "# 9. A fully connected layer mapping from (whatever dimensions we are at-- find out using .shape) to 50\n",
        "# 10. A ReLU\n",
        "# 11. A fully connected layer mapping from 50 to 10 dimensions\n",
        "# 12. A softmax function.\n",
        "\n",
        "# Replace this class which implements a minimal network (which still does okay)\n",
        "class Net(nn.Module):\n",
        "    def __init__(self):\n",
        "        super(Net, self).__init__()\n",
        "        self.conv1 = nn.Conv2d(1, 10, kernel_size=5)\n",
        "        self.pool1 = nn.MaxPool2d(kernel_size=2, stride=2)\n",
        "        self.conv2 = nn.Conv2d(10, 20, kernel_size=5)\n",
        "        self.drop2d = nn.Dropout2d()\n",
        "        self.fc1 = nn.Linear(20 * 4 * 4, 50)\n",
        "        self.fc2 = nn.Linear(50, 10)\n",
        "\n",
        "    def forward(self, x):\n",
        "        x = self.conv1(x)\n",
        "        x = F.relu(x)\n",
        "        x = self.pool1(x)\n",
        "        x = self.conv2(x)\n",
        "        x = F.relu(x)\n",
        "        x = self.pool1(x)\n",
        "        x = self.drop2d(x)\n",
        "        x = x.view(x.size(0), -1) s\n",
        "        x = self.fc1(x)\n",
        "        x = F.relu(x)\n",
        "        x = self.fc2(x)\n",
        "        x = F.softmax(x, dim=1)\n",
        "        return x\n",
        "\n",
        "\n",
        "\n",
        "\n",
        "\n"
      ],
      "metadata": {
        "id": "EQkvw2KOPVl7"
      },
      "execution_count": 13,
      "outputs": []
    },
    {
      "cell_type": "code",
      "source": [
        "# He initialization of weights\n",
        "def weights_init(layer_in):\n",
        "  if isinstance(layer_in, nn.Linear):\n",
        "    nn.init.kaiming_uniform_(layer_in.weight)\n",
        "    layer_in.bias.data.fill_(0.0)"
      ],
      "metadata": {
        "id": "qWZtkCZcU_dg"
      },
      "execution_count": 6,
      "outputs": []
    },
    {
      "cell_type": "code",
      "source": [
        "# Create network\n",
        "model = Net()\n",
        "# Initialize model weights\n",
        "model.apply(weights_init)\n",
        "# Define optimizer\n",
        "optimizer = optim.SGD(model.parameters(), lr=0.01, momentum=0.5)"
      ],
      "metadata": {
        "id": "FslroPJJffrh"
      },
      "execution_count": 7,
      "outputs": []
    },
    {
      "cell_type": "code",
      "source": [
        "# Main training routine\n",
        "def train(epoch):\n",
        "  model.train()\n",
        "  # Get each\n",
        "  for batch_idx, (data, target) in enumerate(train_loader):\n",
        "    optimizer.zero_grad()\n",
        "    output = model(data)\n",
        "    loss = F.nll_loss(output, target)\n",
        "    loss.backward()\n",
        "    optimizer.step()\n",
        "    # Store results\n",
        "    if batch_idx % 10 == 0:\n",
        "      print('Train Epoch: {} [{}/{}]\\tLoss: {:.6f}'.format(\n",
        "        epoch, batch_idx * len(data), len(train_loader.dataset), loss.item()))"
      ],
      "metadata": {
        "id": "xKQd9PzkQ766"
      },
      "execution_count": 8,
      "outputs": []
    },
    {
      "cell_type": "code",
      "source": [
        "# Run on test data\n",
        "def test():\n",
        "  model.eval()\n",
        "  test_loss = 0\n",
        "  correct = 0\n",
        "  with torch.no_grad():\n",
        "    for data, target in test_loader:\n",
        "      output = model(data)\n",
        "      test_loss += F.nll_loss(output, target, size_average=False).item()\n",
        "      pred = output.data.max(1, keepdim=True)[1]\n",
        "      correct += pred.eq(target.data.view_as(pred)).sum()\n",
        "  test_loss /= len(test_loader.dataset)\n",
        "  print('\\nTest set: Avg. loss: {:.4f}, Accuracy: {}/{} ({:.0f}%)\\n'.format(\n",
        "    test_loss, correct, len(test_loader.dataset),\n",
        "    100. * correct / len(test_loader.dataset)))"
      ],
      "metadata": {
        "id": "Byn-f7qWRLxX"
      },
      "execution_count": 9,
      "outputs": []
    },
    {
      "cell_type": "code",
      "source": [
        "# Get initial performance\n",
        "test()\n",
        "# Train for three epochs\n",
        "n_epochs = 3\n",
        "for epoch in range(1, n_epochs + 1):\n",
        "  train(epoch)\n",
        "  test()"
      ],
      "metadata": {
        "id": "YgLaex1pfhqz",
        "colab": {
          "base_uri": "https://localhost:8080/"
        },
        "outputId": "3b4e39f8-44f1-4f8e-e2ba-4580414f04bc"
      },
      "execution_count": 10,
      "outputs": [
        {
          "output_type": "stream",
          "name": "stderr",
          "text": [
            "/usr/local/lib/python3.10/dist-packages/torch/nn/_reduction.py:51: UserWarning: size_average and reduce args will be deprecated, please use reduction='sum' instead.\n",
            "  warnings.warn(warning.format(ret))\n"
          ]
        },
        {
          "output_type": "stream",
          "name": "stdout",
          "text": [
            "\n",
            "Test set: Avg. loss: -0.1008, Accuracy: 981/10000 (10%)\n",
            "\n",
            "Train Epoch: 1 [0/60000]\tLoss: -0.095447\n",
            "Train Epoch: 1 [640/60000]\tLoss: -0.097467\n",
            "Train Epoch: 1 [1280/60000]\tLoss: -0.110335\n",
            "Train Epoch: 1 [1920/60000]\tLoss: -0.095499\n",
            "Train Epoch: 1 [2560/60000]\tLoss: -0.130463\n",
            "Train Epoch: 1 [3200/60000]\tLoss: -0.113843\n",
            "Train Epoch: 1 [3840/60000]\tLoss: -0.123914\n",
            "Train Epoch: 1 [4480/60000]\tLoss: -0.124362\n",
            "Train Epoch: 1 [5120/60000]\tLoss: -0.150625\n",
            "Train Epoch: 1 [5760/60000]\tLoss: -0.147299\n",
            "Train Epoch: 1 [6400/60000]\tLoss: -0.112959\n",
            "Train Epoch: 1 [7040/60000]\tLoss: -0.145295\n",
            "Train Epoch: 1 [7680/60000]\tLoss: -0.128050\n",
            "Train Epoch: 1 [8320/60000]\tLoss: -0.139724\n",
            "Train Epoch: 1 [8960/60000]\tLoss: -0.143827\n",
            "Train Epoch: 1 [9600/60000]\tLoss: -0.195812\n",
            "Train Epoch: 1 [10240/60000]\tLoss: -0.180377\n",
            "Train Epoch: 1 [10880/60000]\tLoss: -0.144627\n",
            "Train Epoch: 1 [11520/60000]\tLoss: -0.171585\n",
            "Train Epoch: 1 [12160/60000]\tLoss: -0.201087\n",
            "Train Epoch: 1 [12800/60000]\tLoss: -0.276788\n",
            "Train Epoch: 1 [13440/60000]\tLoss: -0.197460\n",
            "Train Epoch: 1 [14080/60000]\tLoss: -0.178439\n",
            "Train Epoch: 1 [14720/60000]\tLoss: -0.271668\n",
            "Train Epoch: 1 [15360/60000]\tLoss: -0.334154\n",
            "Train Epoch: 1 [16000/60000]\tLoss: -0.305449\n",
            "Train Epoch: 1 [16640/60000]\tLoss: -0.304263\n",
            "Train Epoch: 1 [17280/60000]\tLoss: -0.321127\n",
            "Train Epoch: 1 [17920/60000]\tLoss: -0.313366\n",
            "Train Epoch: 1 [18560/60000]\tLoss: -0.318578\n",
            "Train Epoch: 1 [19200/60000]\tLoss: -0.373834\n",
            "Train Epoch: 1 [19840/60000]\tLoss: -0.443382\n",
            "Train Epoch: 1 [20480/60000]\tLoss: -0.425787\n",
            "Train Epoch: 1 [21120/60000]\tLoss: -0.414425\n",
            "Train Epoch: 1 [21760/60000]\tLoss: -0.417250\n",
            "Train Epoch: 1 [22400/60000]\tLoss: -0.457127\n",
            "Train Epoch: 1 [23040/60000]\tLoss: -0.403695\n",
            "Train Epoch: 1 [23680/60000]\tLoss: -0.417261\n",
            "Train Epoch: 1 [24320/60000]\tLoss: -0.495948\n",
            "Train Epoch: 1 [24960/60000]\tLoss: -0.399047\n",
            "Train Epoch: 1 [25600/60000]\tLoss: -0.519789\n",
            "Train Epoch: 1 [26240/60000]\tLoss: -0.556672\n",
            "Train Epoch: 1 [26880/60000]\tLoss: -0.504249\n",
            "Train Epoch: 1 [27520/60000]\tLoss: -0.453675\n",
            "Train Epoch: 1 [28160/60000]\tLoss: -0.544909\n",
            "Train Epoch: 1 [28800/60000]\tLoss: -0.527386\n",
            "Train Epoch: 1 [29440/60000]\tLoss: -0.542905\n",
            "Train Epoch: 1 [30080/60000]\tLoss: -0.606407\n",
            "Train Epoch: 1 [30720/60000]\tLoss: -0.543504\n",
            "Train Epoch: 1 [31360/60000]\tLoss: -0.621891\n",
            "Train Epoch: 1 [32000/60000]\tLoss: -0.502638\n",
            "Train Epoch: 1 [32640/60000]\tLoss: -0.473686\n",
            "Train Epoch: 1 [33280/60000]\tLoss: -0.532181\n",
            "Train Epoch: 1 [33920/60000]\tLoss: -0.528493\n",
            "Train Epoch: 1 [34560/60000]\tLoss: -0.434684\n",
            "Train Epoch: 1 [35200/60000]\tLoss: -0.564947\n",
            "Train Epoch: 1 [35840/60000]\tLoss: -0.549979\n",
            "Train Epoch: 1 [36480/60000]\tLoss: -0.593963\n",
            "Train Epoch: 1 [37120/60000]\tLoss: -0.644378\n",
            "Train Epoch: 1 [37760/60000]\tLoss: -0.416870\n",
            "Train Epoch: 1 [38400/60000]\tLoss: -0.466849\n",
            "Train Epoch: 1 [39040/60000]\tLoss: -0.525341\n",
            "Train Epoch: 1 [39680/60000]\tLoss: -0.491824\n",
            "Train Epoch: 1 [40320/60000]\tLoss: -0.598513\n",
            "Train Epoch: 1 [40960/60000]\tLoss: -0.502230\n",
            "Train Epoch: 1 [41600/60000]\tLoss: -0.506609\n",
            "Train Epoch: 1 [42240/60000]\tLoss: -0.579958\n",
            "Train Epoch: 1 [42880/60000]\tLoss: -0.443666\n",
            "Train Epoch: 1 [43520/60000]\tLoss: -0.622157\n",
            "Train Epoch: 1 [44160/60000]\tLoss: -0.518705\n",
            "Train Epoch: 1 [44800/60000]\tLoss: -0.590298\n",
            "Train Epoch: 1 [45440/60000]\tLoss: -0.570929\n",
            "Train Epoch: 1 [46080/60000]\tLoss: -0.601961\n",
            "Train Epoch: 1 [46720/60000]\tLoss: -0.599733\n",
            "Train Epoch: 1 [47360/60000]\tLoss: -0.597625\n",
            "Train Epoch: 1 [48000/60000]\tLoss: -0.644495\n",
            "Train Epoch: 1 [48640/60000]\tLoss: -0.550287\n",
            "Train Epoch: 1 [49280/60000]\tLoss: -0.525592\n",
            "Train Epoch: 1 [49920/60000]\tLoss: -0.618207\n",
            "Train Epoch: 1 [50560/60000]\tLoss: -0.640745\n",
            "Train Epoch: 1 [51200/60000]\tLoss: -0.669960\n",
            "Train Epoch: 1 [51840/60000]\tLoss: -0.585789\n",
            "Train Epoch: 1 [52480/60000]\tLoss: -0.519391\n",
            "Train Epoch: 1 [53120/60000]\tLoss: -0.495086\n",
            "Train Epoch: 1 [53760/60000]\tLoss: -0.514356\n",
            "Train Epoch: 1 [54400/60000]\tLoss: -0.579554\n",
            "Train Epoch: 1 [55040/60000]\tLoss: -0.715166\n",
            "Train Epoch: 1 [55680/60000]\tLoss: -0.605883\n",
            "Train Epoch: 1 [56320/60000]\tLoss: -0.585032\n",
            "Train Epoch: 1 [56960/60000]\tLoss: -0.520732\n",
            "Train Epoch: 1 [57600/60000]\tLoss: -0.648139\n",
            "Train Epoch: 1 [58240/60000]\tLoss: -0.545022\n",
            "Train Epoch: 1 [58880/60000]\tLoss: -0.622242\n",
            "Train Epoch: 1 [59520/60000]\tLoss: -0.614611\n",
            "\n",
            "Test set: Avg. loss: -0.6542, Accuracy: 6668/10000 (67%)\n",
            "\n",
            "Train Epoch: 2 [0/60000]\tLoss: -0.614985\n",
            "Train Epoch: 2 [640/60000]\tLoss: -0.644581\n",
            "Train Epoch: 2 [1280/60000]\tLoss: -0.588956\n",
            "Train Epoch: 2 [1920/60000]\tLoss: -0.657764\n",
            "Train Epoch: 2 [2560/60000]\tLoss: -0.588287\n",
            "Train Epoch: 2 [3200/60000]\tLoss: -0.568078\n",
            "Train Epoch: 2 [3840/60000]\tLoss: -0.595747\n",
            "Train Epoch: 2 [4480/60000]\tLoss: -0.505043\n",
            "Train Epoch: 2 [5120/60000]\tLoss: -0.638042\n",
            "Train Epoch: 2 [5760/60000]\tLoss: -0.695498\n",
            "Train Epoch: 2 [6400/60000]\tLoss: -0.622671\n",
            "Train Epoch: 2 [7040/60000]\tLoss: -0.500930\n",
            "Train Epoch: 2 [7680/60000]\tLoss: -0.583128\n",
            "Train Epoch: 2 [8320/60000]\tLoss: -0.719646\n",
            "Train Epoch: 2 [8960/60000]\tLoss: -0.682758\n",
            "Train Epoch: 2 [9600/60000]\tLoss: -0.677611\n",
            "Train Epoch: 2 [10240/60000]\tLoss: -0.590003\n",
            "Train Epoch: 2 [10880/60000]\tLoss: -0.579102\n",
            "Train Epoch: 2 [11520/60000]\tLoss: -0.641885\n",
            "Train Epoch: 2 [12160/60000]\tLoss: -0.706074\n",
            "Train Epoch: 2 [12800/60000]\tLoss: -0.672667\n",
            "Train Epoch: 2 [13440/60000]\tLoss: -0.681553\n",
            "Train Epoch: 2 [14080/60000]\tLoss: -0.613533\n",
            "Train Epoch: 2 [14720/60000]\tLoss: -0.733473\n",
            "Train Epoch: 2 [15360/60000]\tLoss: -0.704919\n",
            "Train Epoch: 2 [16000/60000]\tLoss: -0.708168\n",
            "Train Epoch: 2 [16640/60000]\tLoss: -0.664568\n",
            "Train Epoch: 2 [17280/60000]\tLoss: -0.600401\n",
            "Train Epoch: 2 [17920/60000]\tLoss: -0.647308\n",
            "Train Epoch: 2 [18560/60000]\tLoss: -0.649423\n",
            "Train Epoch: 2 [19200/60000]\tLoss: -0.713929\n",
            "Train Epoch: 2 [19840/60000]\tLoss: -0.698833\n",
            "Train Epoch: 2 [20480/60000]\tLoss: -0.631479\n",
            "Train Epoch: 2 [21120/60000]\tLoss: -0.734928\n",
            "Train Epoch: 2 [21760/60000]\tLoss: -0.719624\n",
            "Train Epoch: 2 [22400/60000]\tLoss: -0.637376\n",
            "Train Epoch: 2 [23040/60000]\tLoss: -0.580573\n",
            "Train Epoch: 2 [23680/60000]\tLoss: -0.689268\n",
            "Train Epoch: 2 [24320/60000]\tLoss: -0.707928\n",
            "Train Epoch: 2 [24960/60000]\tLoss: -0.700801\n",
            "Train Epoch: 2 [25600/60000]\tLoss: -0.682673\n",
            "Train Epoch: 2 [26240/60000]\tLoss: -0.665864\n",
            "Train Epoch: 2 [26880/60000]\tLoss: -0.705227\n",
            "Train Epoch: 2 [27520/60000]\tLoss: -0.657647\n",
            "Train Epoch: 2 [28160/60000]\tLoss: -0.666855\n",
            "Train Epoch: 2 [28800/60000]\tLoss: -0.703651\n",
            "Train Epoch: 2 [29440/60000]\tLoss: -0.680243\n",
            "Train Epoch: 2 [30080/60000]\tLoss: -0.750447\n",
            "Train Epoch: 2 [30720/60000]\tLoss: -0.662691\n",
            "Train Epoch: 2 [31360/60000]\tLoss: -0.737538\n",
            "Train Epoch: 2 [32000/60000]\tLoss: -0.619041\n",
            "Train Epoch: 2 [32640/60000]\tLoss: -0.618352\n",
            "Train Epoch: 2 [33280/60000]\tLoss: -0.781595\n",
            "Train Epoch: 2 [33920/60000]\tLoss: -0.738188\n",
            "Train Epoch: 2 [34560/60000]\tLoss: -0.644560\n",
            "Train Epoch: 2 [35200/60000]\tLoss: -0.669246\n",
            "Train Epoch: 2 [35840/60000]\tLoss: -0.718716\n",
            "Train Epoch: 2 [36480/60000]\tLoss: -0.805780\n",
            "Train Epoch: 2 [37120/60000]\tLoss: -0.758272\n",
            "Train Epoch: 2 [37760/60000]\tLoss: -0.709350\n",
            "Train Epoch: 2 [38400/60000]\tLoss: -0.764853\n",
            "Train Epoch: 2 [39040/60000]\tLoss: -0.777523\n",
            "Train Epoch: 2 [39680/60000]\tLoss: -0.766485\n",
            "Train Epoch: 2 [40320/60000]\tLoss: -0.663218\n",
            "Train Epoch: 2 [40960/60000]\tLoss: -0.805224\n",
            "Train Epoch: 2 [41600/60000]\tLoss: -0.648824\n",
            "Train Epoch: 2 [42240/60000]\tLoss: -0.621444\n",
            "Train Epoch: 2 [42880/60000]\tLoss: -0.831896\n",
            "Train Epoch: 2 [43520/60000]\tLoss: -0.794597\n",
            "Train Epoch: 2 [44160/60000]\tLoss: -0.820235\n",
            "Train Epoch: 2 [44800/60000]\tLoss: -0.800355\n",
            "Train Epoch: 2 [45440/60000]\tLoss: -0.836257\n",
            "Train Epoch: 2 [46080/60000]\tLoss: -0.774099\n",
            "Train Epoch: 2 [46720/60000]\tLoss: -0.655914\n",
            "Train Epoch: 2 [47360/60000]\tLoss: -0.708825\n",
            "Train Epoch: 2 [48000/60000]\tLoss: -0.675809\n",
            "Train Epoch: 2 [48640/60000]\tLoss: -0.747255\n",
            "Train Epoch: 2 [49280/60000]\tLoss: -0.747735\n",
            "Train Epoch: 2 [49920/60000]\tLoss: -0.796351\n",
            "Train Epoch: 2 [50560/60000]\tLoss: -0.829254\n",
            "Train Epoch: 2 [51200/60000]\tLoss: -0.798627\n",
            "Train Epoch: 2 [51840/60000]\tLoss: -0.821799\n",
            "Train Epoch: 2 [52480/60000]\tLoss: -0.665815\n",
            "Train Epoch: 2 [53120/60000]\tLoss: -0.788919\n",
            "Train Epoch: 2 [53760/60000]\tLoss: -0.681087\n",
            "Train Epoch: 2 [54400/60000]\tLoss: -0.710688\n",
            "Train Epoch: 2 [55040/60000]\tLoss: -0.687381\n",
            "Train Epoch: 2 [55680/60000]\tLoss: -0.696005\n",
            "Train Epoch: 2 [56320/60000]\tLoss: -0.808404\n",
            "Train Epoch: 2 [56960/60000]\tLoss: -0.756549\n",
            "Train Epoch: 2 [57600/60000]\tLoss: -0.798859\n",
            "Train Epoch: 2 [58240/60000]\tLoss: -0.720457\n",
            "Train Epoch: 2 [58880/60000]\tLoss: -0.738122\n",
            "Train Epoch: 2 [59520/60000]\tLoss: -0.663748\n",
            "\n",
            "Test set: Avg. loss: -0.7603, Accuracy: 7641/10000 (76%)\n",
            "\n",
            "Train Epoch: 3 [0/60000]\tLoss: -0.733493\n",
            "Train Epoch: 3 [640/60000]\tLoss: -0.752673\n",
            "Train Epoch: 3 [1280/60000]\tLoss: -0.697956\n",
            "Train Epoch: 3 [1920/60000]\tLoss: -0.736951\n",
            "Train Epoch: 3 [2560/60000]\tLoss: -0.741598\n",
            "Train Epoch: 3 [3200/60000]\tLoss: -0.717309\n",
            "Train Epoch: 3 [3840/60000]\tLoss: -0.761714\n",
            "Train Epoch: 3 [4480/60000]\tLoss: -0.752044\n",
            "Train Epoch: 3 [5120/60000]\tLoss: -0.727804\n",
            "Train Epoch: 3 [5760/60000]\tLoss: -0.771561\n",
            "Train Epoch: 3 [6400/60000]\tLoss: -0.749180\n",
            "Train Epoch: 3 [7040/60000]\tLoss: -0.738849\n",
            "Train Epoch: 3 [7680/60000]\tLoss: -0.670947\n",
            "Train Epoch: 3 [8320/60000]\tLoss: -0.790039\n",
            "Train Epoch: 3 [8960/60000]\tLoss: -0.743536\n",
            "Train Epoch: 3 [9600/60000]\tLoss: -0.762739\n",
            "Train Epoch: 3 [10240/60000]\tLoss: -0.703924\n",
            "Train Epoch: 3 [10880/60000]\tLoss: -0.709774\n",
            "Train Epoch: 3 [11520/60000]\tLoss: -0.751128\n",
            "Train Epoch: 3 [12160/60000]\tLoss: -0.762500\n",
            "Train Epoch: 3 [12800/60000]\tLoss: -0.706511\n",
            "Train Epoch: 3 [13440/60000]\tLoss: -0.777681\n",
            "Train Epoch: 3 [14080/60000]\tLoss: -0.645302\n",
            "Train Epoch: 3 [14720/60000]\tLoss: -0.785141\n",
            "Train Epoch: 3 [15360/60000]\tLoss: -0.701139\n",
            "Train Epoch: 3 [16000/60000]\tLoss: -0.709855\n",
            "Train Epoch: 3 [16640/60000]\tLoss: -0.728746\n",
            "Train Epoch: 3 [17280/60000]\tLoss: -0.690776\n",
            "Train Epoch: 3 [17920/60000]\tLoss: -0.727083\n",
            "Train Epoch: 3 [18560/60000]\tLoss: -0.844820\n",
            "Train Epoch: 3 [19200/60000]\tLoss: -0.736659\n",
            "Train Epoch: 3 [19840/60000]\tLoss: -0.785184\n",
            "Train Epoch: 3 [20480/60000]\tLoss: -0.800029\n",
            "Train Epoch: 3 [21120/60000]\tLoss: -0.707758\n",
            "Train Epoch: 3 [21760/60000]\tLoss: -0.792499\n",
            "Train Epoch: 3 [22400/60000]\tLoss: -0.783402\n",
            "Train Epoch: 3 [23040/60000]\tLoss: -0.745470\n",
            "Train Epoch: 3 [23680/60000]\tLoss: -0.664562\n",
            "Train Epoch: 3 [24320/60000]\tLoss: -0.783140\n",
            "Train Epoch: 3 [24960/60000]\tLoss: -0.632312\n",
            "Train Epoch: 3 [25600/60000]\tLoss: -0.716994\n",
            "Train Epoch: 3 [26240/60000]\tLoss: -0.725738\n",
            "Train Epoch: 3 [26880/60000]\tLoss: -0.682253\n",
            "Train Epoch: 3 [27520/60000]\tLoss: -0.739663\n",
            "Train Epoch: 3 [28160/60000]\tLoss: -0.676274\n",
            "Train Epoch: 3 [28800/60000]\tLoss: -0.796660\n",
            "Train Epoch: 3 [29440/60000]\tLoss: -0.660151\n",
            "Train Epoch: 3 [30080/60000]\tLoss: -0.794106\n",
            "Train Epoch: 3 [30720/60000]\tLoss: -0.750457\n",
            "Train Epoch: 3 [31360/60000]\tLoss: -0.742257\n",
            "Train Epoch: 3 [32000/60000]\tLoss: -0.836514\n",
            "Train Epoch: 3 [32640/60000]\tLoss: -0.662856\n",
            "Train Epoch: 3 [33280/60000]\tLoss: -0.751649\n",
            "Train Epoch: 3 [33920/60000]\tLoss: -0.774701\n",
            "Train Epoch: 3 [34560/60000]\tLoss: -0.713117\n",
            "Train Epoch: 3 [35200/60000]\tLoss: -0.795600\n",
            "Train Epoch: 3 [35840/60000]\tLoss: -0.667095\n",
            "Train Epoch: 3 [36480/60000]\tLoss: -0.761637\n",
            "Train Epoch: 3 [37120/60000]\tLoss: -0.735234\n",
            "Train Epoch: 3 [37760/60000]\tLoss: -0.730136\n",
            "Train Epoch: 3 [38400/60000]\tLoss: -0.741479\n",
            "Train Epoch: 3 [39040/60000]\tLoss: -0.788395\n",
            "Train Epoch: 3 [39680/60000]\tLoss: -0.801569\n",
            "Train Epoch: 3 [40320/60000]\tLoss: -0.713381\n",
            "Train Epoch: 3 [40960/60000]\tLoss: -0.829950\n",
            "Train Epoch: 3 [41600/60000]\tLoss: -0.736713\n",
            "Train Epoch: 3 [42240/60000]\tLoss: -0.831883\n",
            "Train Epoch: 3 [42880/60000]\tLoss: -0.843178\n",
            "Train Epoch: 3 [43520/60000]\tLoss: -0.798854\n",
            "Train Epoch: 3 [44160/60000]\tLoss: -0.748261\n",
            "Train Epoch: 3 [44800/60000]\tLoss: -0.819119\n",
            "Train Epoch: 3 [45440/60000]\tLoss: -0.711605\n",
            "Train Epoch: 3 [46080/60000]\tLoss: -0.726786\n",
            "Train Epoch: 3 [46720/60000]\tLoss: -0.670072\n",
            "Train Epoch: 3 [47360/60000]\tLoss: -0.749244\n",
            "Train Epoch: 3 [48000/60000]\tLoss: -0.778939\n",
            "Train Epoch: 3 [48640/60000]\tLoss: -0.797669\n",
            "Train Epoch: 3 [49280/60000]\tLoss: -0.712274\n",
            "Train Epoch: 3 [49920/60000]\tLoss: -0.614670\n",
            "Train Epoch: 3 [50560/60000]\tLoss: -0.711404\n",
            "Train Epoch: 3 [51200/60000]\tLoss: -0.843330\n",
            "Train Epoch: 3 [51840/60000]\tLoss: -0.801212\n",
            "Train Epoch: 3 [52480/60000]\tLoss: -0.719970\n",
            "Train Epoch: 3 [53120/60000]\tLoss: -0.797604\n",
            "Train Epoch: 3 [53760/60000]\tLoss: -0.731389\n",
            "Train Epoch: 3 [54400/60000]\tLoss: -0.763369\n",
            "Train Epoch: 3 [55040/60000]\tLoss: -0.663641\n",
            "Train Epoch: 3 [55680/60000]\tLoss: -0.695996\n",
            "Train Epoch: 3 [56320/60000]\tLoss: -0.755113\n",
            "Train Epoch: 3 [56960/60000]\tLoss: -0.869862\n",
            "Train Epoch: 3 [57600/60000]\tLoss: -0.790273\n",
            "Train Epoch: 3 [58240/60000]\tLoss: -0.741353\n",
            "Train Epoch: 3 [58880/60000]\tLoss: -0.776304\n",
            "Train Epoch: 3 [59520/60000]\tLoss: -0.630540\n",
            "\n",
            "Test set: Avg. loss: -0.7678, Accuracy: 7692/10000 (77%)\n",
            "\n"
          ]
        }
      ]
    },
    {
      "cell_type": "code",
      "source": [
        "# Run network on data we got before and show predictions\n",
        "output = model(example_data)\n",
        "\n",
        "fig = plt.figure()\n",
        "for i in range(10):\n",
        "  plt.subplot(5,5,i+1)\n",
        "  plt.tight_layout()\n",
        "  plt.imshow(example_data[i][0], cmap='gray', interpolation='none')\n",
        "  plt.title(\"Prediction: {}\".format(\n",
        "    output.data.max(1, keepdim=True)[1][i].item()))\n",
        "  plt.xticks([])\n",
        "  plt.yticks([])\n",
        "plt.show()"
      ],
      "metadata": {
        "id": "o7fRUAy9Se1B",
        "colab": {
          "base_uri": "https://localhost:8080/",
          "height": 227
        },
        "outputId": "b4d19aeb-4617-4dcf-8929-8211ed7a6a4a"
      },
      "execution_count": 11,
      "outputs": [
        {
          "output_type": "display_data",
          "data": {
            "text/plain": [
              "<Figure size 640x480 with 10 Axes>"
            ],
            "image/png": "[encoded data removed]"
          },
          "metadata": {}
        }
      ]
    }
  ]
}