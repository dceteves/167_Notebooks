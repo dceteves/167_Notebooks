{
  "nbformat": 4,
  "nbformat_minor": 0,
  "metadata": {
    "colab": {
      "provenance": []
    },
    "kernelspec": {
      "name": "python3",
      "display_name": "Python 3"
    },
    "language_info": {
      "name": "python"
    }
  },
  "cells": [
    {
      "cell_type": "markdown",
      "source": [
        "# **Notebook 12.2: Multihead Self-Attention**\n",
        "\n",
        "This notebook builds a multihead self-attention mechanism as in figure 12.6\n",
        "\n",
        "Work through the cells below, running each cell in turn. In various places you will see the words \"TO DO\". Follow the instructions at these places and make predictions about what is going to happen or write code to complete the functions.\n",
        "\n",
        "Contact me at udlbookmail@gmail.com if you find any mistakes or have any suggestions.\n",
        "\n"
      ],
      "metadata": {
        "id": "t9vk9Elugvmi"
      }
    },
    {
      "cell_type": "code",
      "source": [
        "import numpy as np\n",
        "import matplotlib.pyplot as plt"
      ],
      "metadata": {
        "id": "OLComQyvCIJ7"
      },
      "execution_count": 1,
      "outputs": []
    },
    {
      "cell_type": "markdown",
      "source": [
        "The multihead self-attention mechanism maps $N$ inputs $\\mathbf{x}_{n}\\in\\mathbb{R}^{D}$ and returns $N$ outputs $\\mathbf{x}'_{n}\\in \\mathbb{R}^{D}$.  \n",
        "\n"
      ],
      "metadata": {
        "id": "9OJkkoNqCVK2"
      }
    },
    {
      "cell_type": "code",
      "source": [
        "# Set seed so we get the same random numbers\n",
        "np.random.seed(3)\n",
        "# Number of inputs\n",
        "N = 6\n",
        "# Number of dimensions of each input\n",
        "D = 8\n",
        "# Create an empty list\n",
        "X = np.random.normal(size=(D,N))\n",
        "# Print X\n",
        "print(X)"
      ],
      "metadata": {
        "id": "oAygJwLiCSri",
        "colab": {
          "base_uri": "https://localhost:8080/"
        },
        "outputId": "1bc18e66-fa4c-43ea-b508-e8836eca9742"
      },
      "execution_count": 2,
      "outputs": [
        {
          "output_type": "stream",
          "name": "stdout",
          "text": [
            "[[ 1.78862847  0.43650985  0.09649747 -1.8634927  -0.2773882  -0.35475898]\n",
            " [-0.08274148 -0.62700068 -0.04381817 -0.47721803 -1.31386475  0.88462238]\n",
            " [ 0.88131804  1.70957306  0.05003364 -0.40467741 -0.54535995 -1.54647732]\n",
            " [ 0.98236743 -1.10106763 -1.18504653 -0.2056499   1.48614836  0.23671627]\n",
            " [-1.02378514 -0.7129932   0.62524497 -0.16051336 -0.76883635 -0.23003072]\n",
            " [ 0.74505627  1.97611078 -1.24412333 -0.62641691 -0.80376609 -2.41908317]\n",
            " [-0.92379202 -1.02387576  1.12397796 -0.13191423 -1.62328545  0.64667545]\n",
            " [-0.35627076 -1.74314104 -0.59664964 -0.58859438 -0.8738823   0.02971382]]\n"
          ]
        }
      ]
    },
    {
      "cell_type": "markdown",
      "source": [
        "We'll use two heads.  We'll need the weights and biases for the keys, queries, and values (equations 12.2 and 12.4).  We'll use two heads, and (as in the figure), we'll make the queries keys and values of size D/H"
      ],
      "metadata": {
        "id": "W2iHFbtKMaDp"
      }
    },
    {
      "cell_type": "code",
      "source": [
        "# Number of heads\n",
        "H = 2\n",
        "# QDV dimension\n",
        "H_D = int(D/H)\n",
        "\n",
        "# Set seed so we get the same random numbers\n",
        "np.random.seed(0)\n",
        "\n",
        "# Choose random values for the parameters for the first head\n",
        "omega_q1 = np.random.normal(size=(H_D,D))\n",
        "omega_k1 = np.random.normal(size=(H_D,D))\n",
        "omega_v1 = np.random.normal(size=(H_D,D))\n",
        "beta_q1 = np.random.normal(size=(H_D,1))\n",
        "beta_k1 = np.random.normal(size=(H_D,1))\n",
        "beta_v1 = np.random.normal(size=(H_D,1))\n",
        "\n",
        "# Choose random values for the parameters for the second head\n",
        "omega_q2 = np.random.normal(size=(H_D,D))\n",
        "omega_k2 = np.random.normal(size=(H_D,D))\n",
        "omega_v2 = np.random.normal(size=(H_D,D))\n",
        "beta_q2 = np.random.normal(size=(H_D,1))\n",
        "beta_k2 = np.random.normal(size=(H_D,1))\n",
        "beta_v2 = np.random.normal(size=(H_D,1))\n",
        "\n",
        "# Choose random values for the parameters\n",
        "omega_c = np.random.normal(size=(D,D))"
      ],
      "metadata": {
        "id": "79TSK7oLMobe"
      },
      "execution_count": 3,
      "outputs": []
    },
    {
      "cell_type": "markdown",
      "source": [
        "Now let's compute the multiscale self-attention"
      ],
      "metadata": {
        "id": "VxaKQtP3Ng6R"
      }
    },
    {
      "cell_type": "code",
      "source": [
        "# Define softmax operation that works independently on each column\n",
        "def softmax_cols(data_in):\n",
        "  # Exponentiate all of the values\n",
        "  exp_values = np.exp(data_in) ;\n",
        "  # Sum over columns\n",
        "  denom = np.sum(exp_values, axis = 0);\n",
        "  # Compute softmax (numpy broadcasts denominator to all rows automatically)\n",
        "  softmax = exp_values / denom\n",
        "  # return the answer\n",
        "  return softmax"
      ],
      "metadata": {
        "id": "obaQBdUAMXXv"
      },
      "execution_count": 4,
      "outputs": []
    },
    {
      "cell_type": "code",
      "source": [
        " # Now let's compute self attention in matrix form\n",
        "def multihead_scaled_self_attention(X, omega_v1, omega_q1, omega_k1, beta_v1, beta_q1, beta_k1, omega_v2, omega_q2, omega_k2, beta_v2, beta_q2, beta_k2, omega_c):\n",
        "\n",
        "    Q1 = omega_q1 @ X + beta_q1\n",
        "    K1 = omega_k1 @ X + beta_k1\n",
        "    V1 = omega_v1 @ X + beta_v1\n",
        "\n",
        "    Q2 = omega_q2 @ X + beta_q2\n",
        "    K2 = omega_k2 @ X + beta_k2\n",
        "    V2 = omega_v2 @ X + beta_v2\n",
        "\n",
        "    scores1 = Q1.T @ K1 / np.sqrt(K1.shape[0])\n",
        "    attention_weights1 = softmax_cols(scores1)\n",
        "    head1 = V1 @ attention_weights1.T\n",
        "\n",
        "    scores2 = Q2.T @ K2 / np.sqrt(K2.shape[0])\n",
        "    attention_weights2 = softmax_cols(scores2)\n",
        "    head2 = V2 @ attention_weights2.T\n",
        "\n",
        "    concatenated_heads = np.concatenate((head1, head2), axis=0)\n",
        "\n",
        "    output = omega_c @ concatenated_heads\n",
        "\n",
        "    return output"
      ],
      "metadata": {
        "id": "gb2WvQ3SiH8r"
      },
      "execution_count": 10,
      "outputs": []
    },
    {
      "cell_type": "code",
      "source": [
        "# Run the self attention mechanism\n",
        "X_prime = multihead_scaled_self_attention(X,omega_v1, omega_q1, omega_k1, beta_v1, beta_q1, beta_k1, omega_v2, omega_q2, omega_k2, beta_v2, beta_q2, beta_k2, omega_c)\n",
        "\n",
        "# Print out the results\n",
        "np.set_printoptions(precision=3)\n",
        "print(\"Your answer:\")\n",
        "print(X_prime)\n",
        "\n",
        "print(\"True values:\")\n",
        "print(\"[[-21.207  -5.373 -20.933  -9.179 -11.319 -17.812]\")\n",
        "print(\" [ -1.995   7.906 -10.516   3.452   9.863  -7.24 ]\")\n",
        "print(\" [  5.479   1.115   9.244   0.453   5.656   7.089]\")\n",
        "print(\" [ -7.413  -7.416   0.363  -5.573  -6.736  -0.848]\")\n",
        "print(\" [-11.261  -9.937  -4.848  -8.915 -13.378  -5.761]\")\n",
        "print(\" [  3.548  10.036  -2.244   1.604  12.113  -2.557]\")\n",
        "print(\" [  4.888  -5.814   2.407   3.228  -4.232   3.71 ]\")\n",
        "print(\" [  1.248  18.894  -6.409   3.224  19.717  -5.629]]\")\n",
        "\n",
        "# If your answers don't match, then make sure that you are doing the scaling, and make sure the scaling value is correct"
      ],
      "metadata": {
        "id": "MUOJbgJskUpl",
        "colab": {
          "base_uri": "https://localhost:8080/"
        },
        "outputId": "fb1d7720-6e4c-4467-db97-510d5f2362ce"
      },
      "execution_count": 11,
      "outputs": [
        {
          "output_type": "stream",
          "name": "stdout",
          "text": [
            "Your answer:\n",
            "[[-22.646  -5.784   3.482  -1.692   0.437  -8.298]\n",
            " [ -0.909  -1.243   4.792   8.578   7.136  -7.41 ]\n",
            " [  4.784   2.155   0.244   1.903   5.343   3.26 ]\n",
            " [ -9.995   0.143   0.422  -6.449  -1.252  -2.497]\n",
            " [-12.711  -4.78   -0.733  -6.695  -3.892   0.755]\n",
            " [  1.337  -2.347 -12.407   3.273   3.644  -8.366]\n",
            " [  9.948  -1.418  13.564  -3.171  -4.017   6.666]\n",
            " [ -2.163   5.145 -10.17   14.501  12.527 -10.373]]\n",
            "True values:\n",
            "[[-21.207  -5.373 -20.933  -9.179 -11.319 -17.812]\n",
            " [ -1.995   7.906 -10.516   3.452   9.863  -7.24 ]\n",
            " [  5.479   1.115   9.244   0.453   5.656   7.089]\n",
            " [ -7.413  -7.416   0.363  -5.573  -6.736  -0.848]\n",
            " [-11.261  -9.937  -4.848  -8.915 -13.378  -5.761]\n",
            " [  3.548  10.036  -2.244   1.604  12.113  -2.557]\n",
            " [  4.888  -5.814   2.407   3.228  -4.232   3.71 ]\n",
            " [  1.248  18.894  -6.409   3.224  19.717  -5.629]]\n"
          ]
        }
      ]
    },
    {
      "cell_type": "code",
      "source": [],
      "metadata": {
        "id": "5YG4FnrGheHj"
      },
      "execution_count": null,
      "outputs": []
    }
  ]
}